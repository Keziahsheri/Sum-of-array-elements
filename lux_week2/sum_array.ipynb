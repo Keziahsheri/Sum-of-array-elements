{
 "cells": [
  {
   "cell_type": "code",
   "execution_count": null,
   "metadata": {},
   "outputs": [],
   "source": [
    "import array as arr\n",
    "def sum_arr(inp1, inp2, inp3):\n",
    "    x = int(input())\n",
    "    y = int(input())\n",
    "    z = int(input())\n",
    "    numbers = arr.array('i', [x,y,z])\n",
    "    print(sum(numbers))\n",
    "    \n",
    "sum_arr(inp1 ='x', inp2 = 'y', inp3 = 'z')\n",
    "    \n",
    "    "
   ]
  },
  {
   "cell_type": "code",
   "execution_count": null,
   "metadata": {},
   "outputs": [],
   "source": [
    "import array as arr\n",
    "def sum_arr(inp1,inp2,inp3):\n",
    "    x = 2\n",
    "    y = 2\n",
    "    z = 2\n",
    "    numbers = arr.array('i', [x,y,z])\n",
    "    print(sum(numbers))\n",
    "    \n",
    "sum_arr(inp1 = 'x',inp2 = 'y', inp3 = 'z')\n",
    "    \n",
    "    \n",
    "\n",
    "    "
   ]
  }
 ],
 "metadata": {
  "kernelspec": {
   "display_name": "Python 3",
   "language": "python",
   "name": "python3"
  },
  "language_info": {
   "codemirror_mode": {
    "name": "ipython",
    "version": 3
   },
   "file_extension": ".py",
   "mimetype": "text/x-python",
   "name": "python",
   "nbconvert_exporter": "python",
   "pygments_lexer": "ipython3",
   "version": "3.10.10"
  },
  "orig_nbformat": 4,
  "vscode": {
   "interpreter": {
    "hash": "486e0d5a79acdbfffd563ee7a67a93a5017bd2a4f66495483a69f0245c8a4a6c"
   }
  }
 },
 "nbformat": 4,
 "nbformat_minor": 2
}
